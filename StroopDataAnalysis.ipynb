{
 "cells": [
  {
   "cell_type": "markdown",
   "metadata": {},
   "source": [
    "# Stroop Data\n",
    "\n",
    "In a Stroop task, participants are presented with a list of words, with each word displayed in a color of ink. The participant’s task is to say out loud the color of the ink in which the word is printed. The task has two conditions: a congruent words condition, and an incongruent words condition. In the congruent words condition, the words being displayed are color words whose names match the colors in which they are printed: for example RED, BLUE. In the incongruent words condition, the words displayed are color words whose names do not match the colors in which they are printed: for example PURPLE, ORANGE. In each case, we measure the time it takes to name the ink colors in equally-sized lists. Each participant will go through and record a time from each condition.\n",
    "\n",
    "In this study, we will explore the data statistically."
   ]
  },
  {
   "cell_type": "markdown",
   "metadata": {},
   "source": [
    "## Data description\n",
    "\n",
    "In this dataset, we get the measurement of time for participants when the words are congruent and when they are not."
   ]
  },
  {
   "cell_type": "code",
   "execution_count": 33,
   "metadata": {
    "collapsed": true
   },
   "outputs": [],
   "source": [
    "import pandas as pd\n",
    "import numpy as np\n",
    "import seaborn as sns\n",
    "%matplotlib inline\n",
    "import matplotlib.pyplot as plt\n",
    "import scipy.stats as scs"
   ]
  },
  {
   "cell_type": "code",
   "execution_count": 34,
   "metadata": {
    "collapsed": true
   },
   "outputs": [],
   "source": [
    "stroop_ds = pd.read_csv('./stroopdata.csv')"
   ]
  },
  {
   "cell_type": "code",
   "execution_count": 35,
   "metadata": {},
   "outputs": [
    {
     "data": {
      "text/html": [
       "<div>\n",
       "<style>\n",
       "    .dataframe thead tr:only-child th {\n",
       "        text-align: right;\n",
       "    }\n",
       "\n",
       "    .dataframe thead th {\n",
       "        text-align: left;\n",
       "    }\n",
       "\n",
       "    .dataframe tbody tr th {\n",
       "        vertical-align: top;\n",
       "    }\n",
       "</style>\n",
       "<table border=\"1\" class=\"dataframe\">\n",
       "  <thead>\n",
       "    <tr style=\"text-align: right;\">\n",
       "      <th></th>\n",
       "      <th>Congruent</th>\n",
       "      <th>Incongruent</th>\n",
       "    </tr>\n",
       "  </thead>\n",
       "  <tbody>\n",
       "    <tr>\n",
       "      <th>count</th>\n",
       "      <td>24.000000</td>\n",
       "      <td>24.000000</td>\n",
       "    </tr>\n",
       "    <tr>\n",
       "      <th>mean</th>\n",
       "      <td>14.051125</td>\n",
       "      <td>22.015917</td>\n",
       "    </tr>\n",
       "    <tr>\n",
       "      <th>std</th>\n",
       "      <td>3.559358</td>\n",
       "      <td>4.797057</td>\n",
       "    </tr>\n",
       "    <tr>\n",
       "      <th>min</th>\n",
       "      <td>8.630000</td>\n",
       "      <td>15.687000</td>\n",
       "    </tr>\n",
       "    <tr>\n",
       "      <th>25%</th>\n",
       "      <td>11.895250</td>\n",
       "      <td>18.716750</td>\n",
       "    </tr>\n",
       "    <tr>\n",
       "      <th>50%</th>\n",
       "      <td>14.356500</td>\n",
       "      <td>21.017500</td>\n",
       "    </tr>\n",
       "    <tr>\n",
       "      <th>75%</th>\n",
       "      <td>16.200750</td>\n",
       "      <td>24.051500</td>\n",
       "    </tr>\n",
       "    <tr>\n",
       "      <th>max</th>\n",
       "      <td>22.328000</td>\n",
       "      <td>35.255000</td>\n",
       "    </tr>\n",
       "  </tbody>\n",
       "</table>\n",
       "</div>"
      ],
      "text/plain": [
       "       Congruent  Incongruent\n",
       "count  24.000000    24.000000\n",
       "mean   14.051125    22.015917\n",
       "std     3.559358     4.797057\n",
       "min     8.630000    15.687000\n",
       "25%    11.895250    18.716750\n",
       "50%    14.356500    21.017500\n",
       "75%    16.200750    24.051500\n",
       "max    22.328000    35.255000"
      ]
     },
     "execution_count": 35,
     "metadata": {},
     "output_type": "execute_result"
    }
   ],
   "source": [
    "stroop_ds.describe()"
   ]
  },
  {
   "cell_type": "markdown",
   "metadata": {},
   "source": [
    "From the mean values of the data, it shows that Congruent has a lower mean than the Incongruent performance. The count of the participants is 24 and the std is wider in the case of Incongruent. It is also worth noting that Incongruent has a higher max and congruent has a lower min values."
   ]
  },
  {
   "cell_type": "code",
   "execution_count": 39,
   "metadata": {},
   "outputs": [
    {
     "data": {
      "image/png": "[encoded data removed]",
      "text/plain": [
       "<matplotlib.figure.Figure at 0x20c40a4c588>"
      ]
     },
     "metadata": {},
     "output_type": "display_data"
    }
   ],
   "source": [
    "sns.distplot(stroop_ds['Congruent'], label=\"Congruent\")\n",
    "sns.distplot(stroop_ds['Incongruent'], label=\"Incongruent\")\n",
    "plt.xlabel(\"Time Taken\")\n",
    "plt.legend()\n",
    "plt.title(\"Histogram of Perfomance and its KDE estimate\")\n",
    "plt.show()"
   ]
  },
  {
   "cell_type": "markdown",
   "metadata": {},
   "source": [
    "Plotting the KDE estimate of the normal distribution shows us the two samples. Further highlighting the observations we had on the two samples. There is an interesting outlier on 35 time taken on Incongruent. This could be that some people take too long on Incogruent or it could just be an anomaly."
   ]
  },
  {
   "cell_type": "code",
   "execution_count": 48,
   "metadata": {},
   "outputs": [
    {
     "data": {
      "image/png": "[encoded data removed]",
      "text/plain": [
       "<matplotlib.figure.Figure at 0x20c412cd160>"
      ]
     },
     "metadata": {},
     "output_type": "display_data"
    }
   ],
   "source": [
    "stroop_ds.plot(title = 'Reaction time per participants',\n",
    "                     kind='bar', stacked=False)\n",
    "plt.ylabel('Reaction Time')\n",
    "plt.xlabel(\"Participant\")\n",
    "plt.legend(['Congruent', 'Incongruent'])\n",
    "plt.show()"
   ]
  },
  {
   "cell_type": "markdown",
   "metadata": {},
   "source": [
    "When plotting reaction times per participants, it shows a strong trend that stroop-effect result in longer reaction time on the participants in our sample. This may not reflect the population however."
   ]
  },
  {
   "cell_type": "markdown",
   "metadata": {},
   "source": [
    "## Hypothesis Testing\n",
    "\n",
    "For this section, we want to see if incongruent treatment differs significantly from Congruent words on the performance. To do this, we will attempt a t-test on our hypothesis.\n",
    "\n",
    "The type of t-test we will perform is Pre-test/post-test."
   ]
  },
  {
   "cell_type": "markdown",
   "metadata": {},
   "source": [
    "### What is our independent variable? What is our dependent variable?\n",
    "\n",
    "Our independant variable is whether the word displayed is colored according to the word or not. That is, is it Congruent or Incongruent.\n",
    "\n",
    "Our dependant variable is the reaction time it took the testers to say the correct word."
   ]
  },
  {
   "cell_type": "markdown",
   "metadata": {},
   "source": [
    "### What is an appropriate set of hypotheses for this task?\n",
    "\n",
    "What we are trying to know, is whether stroop effect affects reaction time or not. This type of question is appropriately answered by forming a hypothesis and trying to find if is statistically significant.\n",
    "\n",
    "#### Formed hypothesis:\n",
    "\n",
    "For the hypothesis test, we try to see if there is no effect for the Stroop test, ir that it affects it either positive or negative.\n",
    "\n",
    "$\\mu_{con} $ (population mean Congruent)\n",
    "\n",
    "$\\mu_{in} $ (population mean Incongruent)\n",
    "\n",
    "$H_{0}= \\mu_{con}-\\mu_{in} = 0$ (Stroop effect does not affect reaction time)\n",
    "\n",
    "$H_{A}= \\mu_{con}-\\mu_{in} \\neq 0$ (Stroop effect affects reaction time)\n",
    "\n",
    "\n",
    "This makes this test a two-tailed pre-test/post-test.\n",
    "\n",
    "The reason it is two-tailed because it can either affect reaction time positively or negatively. Pre-test/post-test is because there is a treatment applied and we want to see if the treatment has an effect.\n",
    "\n",
    "The reason for t-test:\n",
    "T-test is great when we do not know the population parameters. We only have to samples and we want to see if they are different from each other without knowing much about the population.\n",
    "\n",
    "The reason for dependent t-test:\n",
    "Since we are only trying to see if our samples come from different populations, that is a dependent t-test. It is an example of \"repeated-measures\" statisical test. Since the same participants are treated more than once. \n",
    "\n"
   ]
  },
  {
   "cell_type": "markdown",
   "metadata": {},
   "source": [
    "### The hypothesis test\n",
    "\n",
    "Here we do our t-test and see if we can reject the null or retain it. We assume a (P<.05)\n",
    "\n",
    "$H_{0}= \\mu_{con}-\\mu_{in} = 0$\n",
    "\n",
    "$H_{A}= \\mu_{con}-\\mu_{in} \\neq 0$\n",
    "\n",
    "$n = 24$\n",
    "\n",
    "$df = n-1 = 23$\n",
    "\n",
    "$S = 4.865$\n",
    "\n",
    "$t_{critical} = \\pm 2.069$\n",
    "\n",
    "$\\mu_{D} = \\mu_{con} - \\mu_{in} = -7.965$\n",
    "\n",
    "$SEM = S \\div \\surd n = 0.993$\n",
    "\n",
    "$t = \\mu_{D} \\div SEM = -8.021$\n",
    "\n",
    "$t(23) = -8.021 P<.0001, two-tailed$\n",
    "\n",
    "\n",
    "From a t value of -8.021 and t critical of 2.069, our t value falls in the critical region. Such we reject the null. This means that there is enough evidence that makes the Incongruent statisitically different from Congruent sample and that its unlikely that it is due to chance. This affirms the trend we have seen from the graphs.\n",
    "\n",
    "Cohen's d $= \\mu_{D} \\div S = -1.637$ (Means that the two means are 1.637 standard deviations apart)\n",
    "\n",
    "$ r^2 = .74$\n",
    "This means that the reaction time difference between the samples is 74% due to the stroop effect.\n",
    "\n",
    "$CI = (-10.02, -5.91)$\n",
    "\n",
    "Confidence interval of 95% on the mean difference lies between the two values. Which means that if the entire population is tested with stroop-effect, the difference between the two reaction time mean lies between -10.02 and -5.91 with a 95% confidence.\n",
    "\n",
    "\n",
    "\n",
    "\n"
   ]
  },
  {
   "cell_type": "markdown",
   "metadata": {},
   "source": [
    "## Thoughts\n",
    "\n",
    "The stroop effect is known to be powerful. It may hint that there is an extra computation in the brain that causes the lag in reaction time or that there is suffecient confusion to cause hesitation when there is mismatched information presented. We can carry more tests on stroop effect using directions or animals as well."
   ]
  }
 ],
 "metadata": {
  "kernelspec": {
   "display_name": "Python 3",
   "language": "python",
   "name": "python3"
  },
  "language_info": {
   "codemirror_mode": {
    "name": "ipython",
    "version": 3
   },
   "file_extension": ".py",
   "mimetype": "text/x-python",
   "name": "python",
   "nbconvert_exporter": "python",
   "pygments_lexer": "ipython3",
   "version": "3.6.1"
  }
 },
 "nbformat": 4,
 "nbformat_minor": 2
}
